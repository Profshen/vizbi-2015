{
 "cells": [
  {
   "cell_type": "markdown",
   "metadata": {},
   "source": [
    "# VIZBI Tutorial Session\n",
    "### Part 2: Cytoscape, IPython, Docker, and reproducible network data visualization workflows\n",
    "\n",
    "Tuesday, 3/24/2015\n",
    "\n",
    "\n",
    "### Lesson 0: Introduction to IPython Notebook\n",
    "\n",
    "by [Keiichiro Ono](http://keiono.github.io/)\n",
    "\n",
    "----\n",
    "\n",
    "![](http://ipython.org/_static/IPy_header.png)\n",
    "\n",
    "IPython Notebook is a simple tool to run your code in human-frienfly documents (Notebooks), and you can boost your productivity by learning some basic commands.\n",
    "\n",
    "### Keyboard Shortcuts\n",
    "There are many keyboard shortcuts, but for now, you just need to learn the following:\n",
    "\n",
    "* __Shift-Enter__ - Run cell\n",
    "* __Ctrl-Enter__ - Run cell in-place\n",
    "* __Alt-Enter__ - Run cell, insert below\n",
    "\n",
    "* __Esc and Enter__ - Command mode and edit mode\n",
    "\n",
    "#### Basic Commands in _Command Mode_\n",
    "\n",
    "* x - cut cell\n",
    "* v - paste cell below\n",
    "* SHIFT + v - paste cell above\n",
    "* dd - dlete cell\n",
    "\n",
    "Complete list of shortcuts is available under ___Help___ menu:\n",
    "\n",
    "![](http://cl.ly/aJfd/ipython_help.png)\n",
    "\n",
    "OK, let's start!"
   ]
  },
  {
   "cell_type": "code",
   "execution_count": 3,
   "metadata": {
    "collapsed": false,
    "scrolled": true
   },
   "outputs": [
    {
     "name": "stdout",
     "output_type": "stream",
     "text": [
      "Hello IPython World!\n"
     ]
    }
   ],
   "source": [
    "print('Hello IPython World!') "
   ]
  },
  {
   "cell_type": "code",
   "execution_count": 4,
   "metadata": {
    "collapsed": false
   },
   "outputs": [
    {
     "name": "stdout",
     "output_type": "stream",
     "text": [
      "bokeh (0.8.2)\n",
      "brewer2mpl (1.4.1)\n",
      "certifi (14.5.14)\n",
      "chardet (2.0.1)\n",
      "colorama (0.3.3)\n",
      "Cython (0.20.1.post0)\n",
      "decorator (3.4.0)\n",
      "docutils (0.11)\n",
      "Flask (0.10.1)\n",
      "ggplot (0.6.5)\n",
      "greenlet (0.4.5)\n",
      "h5py (2.4.0)\n",
      "html5lib (0.999)\n",
      "ipython (3.1.0.dev0)\n",
      "itsdangerous (0.24)\n",
      "Jinja2 (2.7.2)\n",
      "jsonschema (2.4.0)\n",
      "Markdown (2.6.1)\n",
      "MarkupSafe (0.18)\n",
      "matplotlib (1.4.3)\n",
      "mistune (0.5.1)\n",
      "networkx (1.9.1)\n",
      "nose (1.3.4)\n",
      "numpy (1.9.0)\n",
      "numpydoc (0.5)\n",
      "pandas (0.16.0)\n",
      "patsy (0.3.0)\n",
      "Pillow (2.3.0)\n",
      "pip (6.0.8)\n",
      "ptyprocess (0.4)\n",
      "py2cytoscape (0.3.0)\n",
      "Pygments (1.6)\n",
      "pygobject (3.12.0)\n",
      "pyparsing (2.0.1)\n",
      "pystache (0.5.4)\n",
      "python-dateutil (2.4.2)\n",
      "python-igraph (0.7.1-4)\n",
      "pytz (2013b0)\n",
      "PyYAML (3.11)\n",
      "pyzmq (14.5.0)\n",
      "requests (2.2.1)\n",
      "roman (2.0.0)\n",
      "scikit-learn (0.16.0)\n",
      "scipy (0.14.0)\n",
      "seaborn (0.5.1)\n",
      "setuptools (3.3)\n",
      "six (1.5.2)\n",
      "Sphinx (1.2.2)\n",
      "statsmodels (0.6.1)\n",
      "sympy (0.7.6)\n",
      "terminado (0.5)\n",
      "tornado (4.1)\n",
      "urllib3 (1.7.1)\n",
      "Werkzeug (0.10.4)\n",
      "yt (3.1)\n"
     ]
    }
   ],
   "source": [
    "!pip list"
   ]
  },
  {
   "cell_type": "code",
   "execution_count": 5,
   "metadata": {
    "collapsed": false
   },
   "outputs": [],
   "source": [
    "result1 = 1+1\n",
    "result2 = 2*3"
   ]
  },
  {
   "cell_type": "code",
   "execution_count": 6,
   "metadata": {
    "collapsed": false
   },
   "outputs": [
    {
     "data": {
      "text/plain": [
       "2"
      ]
     },
     "execution_count": 6,
     "metadata": {},
     "output_type": "execute_result"
    }
   ],
   "source": [
    "result2\n",
    "result1"
   ]
  },
  {
   "cell_type": "code",
   "execution_count": 7,
   "metadata": {
    "collapsed": false
   },
   "outputs": [
    {
     "name": "stdout",
     "output_type": "stream",
     "text": [
      "2nd = 6\n",
      "1st = 2\n"
     ]
    }
   ],
   "source": [
    "print('2nd = ' + str(result2))\n",
    "print('1st = ' + str(result1))"
   ]
  },
  {
   "cell_type": "code",
   "execution_count": 8,
   "metadata": {
    "collapsed": false
   },
   "outputs": [
    {
     "name": "stdout",
     "output_type": "stream",
     "text": [
      "2nd = 6\n",
      "1st = 2\n"
     ]
    }
   ],
   "source": [
    "print('2nd = ' + str(result2))\n",
    "print('1st = ' + str(result1))"
   ]
  },
  {
   "cell_type": "markdown",
   "metadata": {},
   "source": [
    "## Run System Command\n",
    "You can run system commands by adding __!__ at the beggining.\n",
    "\n",
    "Remember: you are running this notebook in Linux container.  You cannot use Windows/Mac commands even if you are using those machines!"
   ]
  },
  {
   "cell_type": "code",
   "execution_count": 9,
   "metadata": {
    "collapsed": false
   },
   "outputs": [
    {
     "name": "stdout",
     "output_type": "stream",
     "text": [
      "total 5.6M\r\n",
      "drwxr-xr-x 1 1000 staff  374 Apr  2 00:57 .\r\n",
      "drwxr-xr-x 1 1000 staff  340 Mar 30 19:04 ..\r\n",
      "drwxr-xr-x 1 1000 staff  102 Mar 30 19:04 answers\r\n",
      "drwxr-xr-x 1 1000 staff  170 Apr  2 00:57 data\r\n",
      "-rw-r--r-- 1 1000 staff 8.1K Apr  1 18:22 .DS_Store\r\n",
      "-rw-r--r-- 1 1000 staff 738K Mar 30 19:04 graph-tool-test.ipynb\r\n",
      "drwxr-xr-x 1 1000 staff  170 Apr  1 18:22 .ipynb_checkpoints\r\n",
      "-rw-r--r-- 1 1000 staff 9.9K Mar 30 19:04 Lesson_0_IPython_Notebook_Basics.ipynb\r\n",
      "-rw-r--r-- 1 1000 staff 245K Apr  2 00:57 Lesson_1_Introduction_to_cyREST.ipynb\r\n",
      "-rw-r--r-- 1 1000 staff 1.4M Apr  2 00:57 Lesson_2_Graph_Libraries.ipynb\r\n",
      "-rw-r--r-- 1 1000 staff 3.3M Mar 30 19:04 Lesson_3_Visualization.ipynb\r\n"
     ]
    }
   ],
   "source": [
    "!ls -alh"
   ]
  },
  {
   "cell_type": "code",
   "execution_count": 10,
   "metadata": {
    "collapsed": false
   },
   "outputs": [
    {
     "name": "stdout",
     "output_type": "stream",
     "text": [
      "eth0      Link encap:Ethernet  HWaddr 02:42:ac:11:00:08  \r\n",
      "          inet addr:172.17.0.8  Bcast:0.0.0.0  Mask:255.255.0.0\r\n",
      "          inet6 addr: fe80::42:acff:fe11:8/64 Scope:Link\r\n",
      "          UP BROADCAST RUNNING  MTU:1500  Metric:1\r\n",
      "          RX packets:1210 errors:0 dropped:0 overruns:0 frame:0\r\n",
      "          TX packets:462 errors:0 dropped:0 overruns:0 carrier:0\r\n",
      "          collisions:0 txqueuelen:0 \r\n",
      "          RX bytes:170312 (170.3 KB)  TX bytes:2111925 (2.1 MB)\r\n",
      "\r\n",
      "lo        Link encap:Local Loopback  \r\n",
      "          inet addr:127.0.0.1  Mask:255.0.0.0\r\n",
      "          inet6 addr: ::1/128 Scope:Host\r\n",
      "          UP LOOPBACK RUNNING  MTU:65536  Metric:1\r\n",
      "          RX packets:203 errors:0 dropped:0 overruns:0 frame:0\r\n",
      "          TX packets:203 errors:0 dropped:0 overruns:0 carrier:0\r\n",
      "          collisions:0 txqueuelen:0 \r\n",
      "          RX bytes:51235 (51.2 KB)  TX bytes:51235 (51.2 KB)\r\n",
      "\r\n"
     ]
    }
   ],
   "source": [
    "!ifconfig"
   ]
  },
  {
   "cell_type": "markdown",
   "metadata": {},
   "source": [
    "## Magic!\n",
    "In IPython Notebook, there is a nice feature called ___magic___.  Magic is a group of commands to execute some usuful functions just like system commands.\n",
    "\n",
    "### Two types of Magic\n",
    "* __Line magics__: Prepended by one __%__ character, only to the end of the current line.\n",
    "* __Cell magics__: Start with  __%%__ and applied to the entire cell\n",
    "\n",
    "Here is the list of handy magics:"
   ]
  },
  {
   "cell_type": "markdown",
   "metadata": {},
   "source": [
    "### Simple performance test with _%timeit_"
   ]
  },
  {
   "cell_type": "code",
   "execution_count": 11,
   "metadata": {
    "collapsed": false
   },
   "outputs": [
    {
     "name": "stdout",
     "output_type": "stream",
     "text": [
      "10 loops, best of 3: 32.8 ms per loop\n"
     ]
    }
   ],
   "source": [
    "# Import NetworkX library, which is already installed in your Docker container\n",
    "import networkx as nx\n",
    "\n",
    "# Create a ranom graph with 100 nodes using Barabashi-Albert Model ()\n",
    "ba=nx.barabasi_albert_graph(100,5)\n",
    "\n",
    "# Check the performance of a NetworkX function (calculate betweenness centrality) by running 10 times\n",
    "%timeit -n 10 nx.betweenness_centrality(ba)"
   ]
  },
  {
   "cell_type": "code",
   "execution_count": 12,
   "metadata": {
    "collapsed": false
   },
   "outputs": [
    {
     "name": "stdout",
     "output_type": "stream",
     "text": [
      "10 loops, best of 3: 18.9 ms per loop\n"
     ]
    }
   ],
   "source": [
    "%%timeit -n 10\n",
    "\n",
    "# Or, check performance of the entire cell\n",
    "ws = nx.watts_strogatz_graph(100,3,0.1)\n",
    "btw = nx.betweenness_centrality(ws)"
   ]
  },
  {
   "cell_type": "markdown",
   "metadata": {},
   "source": [
    "### Create file manually with _%%writefile_"
   ]
  },
  {
   "cell_type": "code",
   "execution_count": 13,
   "metadata": {
    "collapsed": false
   },
   "outputs": [
    {
     "name": "stdout",
     "output_type": "stream",
     "text": [
      "Writing data/small_network.sif\n"
     ]
    }
   ],
   "source": [
    "%%writefile data/small_network.sif\n",
    "node1 is_a node2\n",
    "node2 child_of node3\n",
    "node3 child_of node1"
   ]
  },
  {
   "cell_type": "code",
   "execution_count": 14,
   "metadata": {
    "collapsed": false
   },
   "outputs": [
    {
     "name": "stdout",
     "output_type": "stream",
     "text": [
      "node1 is_a node2\r\n",
      "node2 child_of node3\r\n",
      "node3 child_of node1"
     ]
    }
   ],
   "source": [
    "!cat data/small_network.sif"
   ]
  },
  {
   "cell_type": "markdown",
   "metadata": {},
   "source": [
    "### Execute under other interpreters"
   ]
  },
  {
   "cell_type": "code",
   "execution_count": 15,
   "metadata": {
    "collapsed": false
   },
   "outputs": [
    {
     "name": "stdout",
     "output_type": "stream",
     "text": [
      "Env var 1\n"
     ]
    }
   ],
   "source": [
    "%%bash\n",
    "export FOO='Env var 1'\n",
    "echo $FOO"
   ]
  },
  {
   "cell_type": "code",
   "execution_count": 16,
   "metadata": {
    "collapsed": false
   },
   "outputs": [
    {
     "data": {
      "application/javascript": [
       "var foo = function(a) {\n",
       "    return a+1;\n",
       "};\n",
       "\n",
       "console.log(foo(2));"
      ],
      "text/plain": [
       "<IPython.core.display.Javascript object>"
      ]
     },
     "metadata": {},
     "output_type": "display_data"
    }
   ],
   "source": [
    "%%javascript\n",
    "var foo = function(a) {\n",
    "    return a+1;\n",
    "};\n",
    "\n",
    "console.log(foo(2));"
   ]
  },
  {
   "cell_type": "markdown",
   "metadata": {},
   "source": [
    "## Continue to [Lesson 1: Introduction to cyREST](Lesson_1_Introduction_to_cyREST.ipynb)"
   ]
  }
 ],
 "metadata": {
  "kernelspec": {
   "display_name": "Python 3",
   "language": "python",
   "name": "python3"
  },
  "language_info": {
   "codemirror_mode": {
    "name": "ipython",
    "version": 3
   },
   "file_extension": ".py",
   "mimetype": "text/x-python",
   "name": "python",
   "nbconvert_exporter": "python",
   "pygments_lexer": "ipython3",
   "version": "3.4.0"
  }
 },
 "nbformat": 4,
 "nbformat_minor": 0
}
